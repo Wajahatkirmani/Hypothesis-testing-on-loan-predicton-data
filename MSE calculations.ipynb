{
 "cells": [
  {
   "cell_type": "code",
   "execution_count": 40,
   "id": "2a9d9627",
   "metadata": {},
   "outputs": [],
   "source": [
    "import pandas as pd\n",
    "import numpy as np"
   ]
  },
  {
   "cell_type": "code",
   "execution_count": 57,
   "id": "f5ba9e64",
   "metadata": {},
   "outputs": [],
   "source": [
    "d_f = pd.read_csv('LoanX.csv')"
   ]
  },
  {
   "cell_type": "code",
   "execution_count": 58,
   "id": "ff03c509",
   "metadata": {},
   "outputs": [
    {
     "data": {
      "text/html": [
       "<div>\n",
       "<style scoped>\n",
       "    .dataframe tbody tr th:only-of-type {\n",
       "        vertical-align: middle;\n",
       "    }\n",
       "\n",
       "    .dataframe tbody tr th {\n",
       "        vertical-align: top;\n",
       "    }\n",
       "\n",
       "    .dataframe thead th {\n",
       "        text-align: right;\n",
       "    }\n",
       "</style>\n",
       "<table border=\"1\" class=\"dataframe\">\n",
       "  <thead>\n",
       "    <tr style=\"text-align: right;\">\n",
       "      <th></th>\n",
       "      <th>Unnamed: 0</th>\n",
       "      <th>Loan_ID</th>\n",
       "      <th>Gender</th>\n",
       "      <th>Married</th>\n",
       "      <th>Dependents</th>\n",
       "      <th>Education</th>\n",
       "      <th>Self_Employed</th>\n",
       "      <th>ApplicantIncome</th>\n",
       "      <th>CoapplicantIncome</th>\n",
       "      <th>LoanAmount</th>\n",
       "      <th>Loan_Amount_Term</th>\n",
       "      <th>Credit_History</th>\n",
       "      <th>Property_Area</th>\n",
       "      <th>Loan_Status</th>\n",
       "    </tr>\n",
       "  </thead>\n",
       "  <tbody>\n",
       "    <tr>\n",
       "      <th>0</th>\n",
       "      <td>0</td>\n",
       "      <td>LP001002</td>\n",
       "      <td>Male</td>\n",
       "      <td>No</td>\n",
       "      <td>0</td>\n",
       "      <td>Graduate</td>\n",
       "      <td>No</td>\n",
       "      <td>5849</td>\n",
       "      <td>0.0</td>\n",
       "      <td>146.412162</td>\n",
       "      <td>360.0</td>\n",
       "      <td>1.0</td>\n",
       "      <td>Urban</td>\n",
       "      <td>Y</td>\n",
       "    </tr>\n",
       "    <tr>\n",
       "      <th>1</th>\n",
       "      <td>1</td>\n",
       "      <td>LP001003</td>\n",
       "      <td>Male</td>\n",
       "      <td>Yes</td>\n",
       "      <td>1</td>\n",
       "      <td>Graduate</td>\n",
       "      <td>No</td>\n",
       "      <td>4583</td>\n",
       "      <td>1508.0</td>\n",
       "      <td>128.000000</td>\n",
       "      <td>360.0</td>\n",
       "      <td>1.0</td>\n",
       "      <td>Rural</td>\n",
       "      <td>N</td>\n",
       "    </tr>\n",
       "    <tr>\n",
       "      <th>2</th>\n",
       "      <td>2</td>\n",
       "      <td>LP001005</td>\n",
       "      <td>Male</td>\n",
       "      <td>Yes</td>\n",
       "      <td>0</td>\n",
       "      <td>Graduate</td>\n",
       "      <td>Yes</td>\n",
       "      <td>3000</td>\n",
       "      <td>0.0</td>\n",
       "      <td>66.000000</td>\n",
       "      <td>360.0</td>\n",
       "      <td>1.0</td>\n",
       "      <td>Urban</td>\n",
       "      <td>Y</td>\n",
       "    </tr>\n",
       "    <tr>\n",
       "      <th>3</th>\n",
       "      <td>3</td>\n",
       "      <td>LP001006</td>\n",
       "      <td>Male</td>\n",
       "      <td>Yes</td>\n",
       "      <td>0</td>\n",
       "      <td>Not Graduate</td>\n",
       "      <td>No</td>\n",
       "      <td>2583</td>\n",
       "      <td>2358.0</td>\n",
       "      <td>120.000000</td>\n",
       "      <td>360.0</td>\n",
       "      <td>1.0</td>\n",
       "      <td>Urban</td>\n",
       "      <td>Y</td>\n",
       "    </tr>\n",
       "    <tr>\n",
       "      <th>4</th>\n",
       "      <td>4</td>\n",
       "      <td>LP001008</td>\n",
       "      <td>Male</td>\n",
       "      <td>No</td>\n",
       "      <td>0</td>\n",
       "      <td>Graduate</td>\n",
       "      <td>No</td>\n",
       "      <td>6000</td>\n",
       "      <td>0.0</td>\n",
       "      <td>141.000000</td>\n",
       "      <td>360.0</td>\n",
       "      <td>1.0</td>\n",
       "      <td>Urban</td>\n",
       "      <td>Y</td>\n",
       "    </tr>\n",
       "  </tbody>\n",
       "</table>\n",
       "</div>"
      ],
      "text/plain": [
       "   Unnamed: 0   Loan_ID Gender Married Dependents     Education Self_Employed  \\\n",
       "0           0  LP001002   Male      No          0      Graduate            No   \n",
       "1           1  LP001003   Male     Yes          1      Graduate            No   \n",
       "2           2  LP001005   Male     Yes          0      Graduate           Yes   \n",
       "3           3  LP001006   Male     Yes          0  Not Graduate            No   \n",
       "4           4  LP001008   Male      No          0      Graduate            No   \n",
       "\n",
       "   ApplicantIncome  CoapplicantIncome  LoanAmount  Loan_Amount_Term  \\\n",
       "0             5849                0.0  146.412162             360.0   \n",
       "1             4583             1508.0  128.000000             360.0   \n",
       "2             3000                0.0   66.000000             360.0   \n",
       "3             2583             2358.0  120.000000             360.0   \n",
       "4             6000                0.0  141.000000             360.0   \n",
       "\n",
       "   Credit_History Property_Area Loan_Status  \n",
       "0             1.0         Urban           Y  \n",
       "1             1.0         Rural           N  \n",
       "2             1.0         Urban           Y  \n",
       "3             1.0         Urban           Y  \n",
       "4             1.0         Urban           Y  "
      ]
     },
     "execution_count": 58,
     "metadata": {},
     "output_type": "execute_result"
    }
   ],
   "source": [
    "d_f.head()"
   ]
  },
  {
   "cell_type": "code",
   "execution_count": 59,
   "id": "3347a8b1",
   "metadata": {},
   "outputs": [
    {
     "data": {
      "text/html": [
       "<div>\n",
       "<style scoped>\n",
       "    .dataframe tbody tr th:only-of-type {\n",
       "        vertical-align: middle;\n",
       "    }\n",
       "\n",
       "    .dataframe tbody tr th {\n",
       "        vertical-align: top;\n",
       "    }\n",
       "\n",
       "    .dataframe thead th {\n",
       "        text-align: right;\n",
       "    }\n",
       "</style>\n",
       "<table border=\"1\" class=\"dataframe\">\n",
       "  <thead>\n",
       "    <tr style=\"text-align: right;\">\n",
       "      <th></th>\n",
       "      <th>Unnamed: 0</th>\n",
       "      <th>ApplicantIncome</th>\n",
       "      <th>CoapplicantIncome</th>\n",
       "      <th>LoanAmount</th>\n",
       "      <th>Loan_Amount_Term</th>\n",
       "      <th>Credit_History</th>\n",
       "    </tr>\n",
       "  </thead>\n",
       "  <tbody>\n",
       "    <tr>\n",
       "      <th>count</th>\n",
       "      <td>614.000000</td>\n",
       "      <td>614.000000</td>\n",
       "      <td>614.000000</td>\n",
       "      <td>614.000000</td>\n",
       "      <td>614.000000</td>\n",
       "      <td>614.000000</td>\n",
       "    </tr>\n",
       "    <tr>\n",
       "      <th>mean</th>\n",
       "      <td>306.500000</td>\n",
       "      <td>5403.459283</td>\n",
       "      <td>1621.245798</td>\n",
       "      <td>146.412162</td>\n",
       "      <td>342.410423</td>\n",
       "      <td>0.855049</td>\n",
       "    </tr>\n",
       "    <tr>\n",
       "      <th>std</th>\n",
       "      <td>177.390811</td>\n",
       "      <td>6109.041673</td>\n",
       "      <td>2926.248369</td>\n",
       "      <td>84.037468</td>\n",
       "      <td>64.428629</td>\n",
       "      <td>0.352339</td>\n",
       "    </tr>\n",
       "    <tr>\n",
       "      <th>min</th>\n",
       "      <td>0.000000</td>\n",
       "      <td>150.000000</td>\n",
       "      <td>0.000000</td>\n",
       "      <td>9.000000</td>\n",
       "      <td>12.000000</td>\n",
       "      <td>0.000000</td>\n",
       "    </tr>\n",
       "    <tr>\n",
       "      <th>25%</th>\n",
       "      <td>153.250000</td>\n",
       "      <td>2877.500000</td>\n",
       "      <td>0.000000</td>\n",
       "      <td>100.250000</td>\n",
       "      <td>360.000000</td>\n",
       "      <td>1.000000</td>\n",
       "    </tr>\n",
       "    <tr>\n",
       "      <th>50%</th>\n",
       "      <td>306.500000</td>\n",
       "      <td>3812.500000</td>\n",
       "      <td>1188.500000</td>\n",
       "      <td>129.000000</td>\n",
       "      <td>360.000000</td>\n",
       "      <td>1.000000</td>\n",
       "    </tr>\n",
       "    <tr>\n",
       "      <th>75%</th>\n",
       "      <td>459.750000</td>\n",
       "      <td>5795.000000</td>\n",
       "      <td>2297.250000</td>\n",
       "      <td>164.750000</td>\n",
       "      <td>360.000000</td>\n",
       "      <td>1.000000</td>\n",
       "    </tr>\n",
       "    <tr>\n",
       "      <th>max</th>\n",
       "      <td>613.000000</td>\n",
       "      <td>81000.000000</td>\n",
       "      <td>41667.000000</td>\n",
       "      <td>700.000000</td>\n",
       "      <td>480.000000</td>\n",
       "      <td>1.000000</td>\n",
       "    </tr>\n",
       "  </tbody>\n",
       "</table>\n",
       "</div>"
      ],
      "text/plain": [
       "       Unnamed: 0  ApplicantIncome  CoapplicantIncome  LoanAmount  \\\n",
       "count  614.000000       614.000000         614.000000  614.000000   \n",
       "mean   306.500000      5403.459283        1621.245798  146.412162   \n",
       "std    177.390811      6109.041673        2926.248369   84.037468   \n",
       "min      0.000000       150.000000           0.000000    9.000000   \n",
       "25%    153.250000      2877.500000           0.000000  100.250000   \n",
       "50%    306.500000      3812.500000        1188.500000  129.000000   \n",
       "75%    459.750000      5795.000000        2297.250000  164.750000   \n",
       "max    613.000000     81000.000000       41667.000000  700.000000   \n",
       "\n",
       "       Loan_Amount_Term  Credit_History  \n",
       "count        614.000000      614.000000  \n",
       "mean         342.410423        0.855049  \n",
       "std           64.428629        0.352339  \n",
       "min           12.000000        0.000000  \n",
       "25%          360.000000        1.000000  \n",
       "50%          360.000000        1.000000  \n",
       "75%          360.000000        1.000000  \n",
       "max          480.000000        1.000000  "
      ]
     },
     "execution_count": 59,
     "metadata": {},
     "output_type": "execute_result"
    }
   ],
   "source": [
    "d_f.describe()"
   ]
  },
  {
   "cell_type": "code",
   "execution_count": 60,
   "id": "61cabd65",
   "metadata": {},
   "outputs": [
    {
     "data": {
      "text/plain": [
       "Index(['Unnamed: 0', 'Loan_ID', 'Gender', 'Married', 'Dependents', 'Education',\n",
       "       'Self_Employed', 'ApplicantIncome', 'CoapplicantIncome', 'LoanAmount',\n",
       "       'Loan_Amount_Term', 'Credit_History', 'Property_Area', 'Loan_Status'],\n",
       "      dtype='object')"
      ]
     },
     "execution_count": 60,
     "metadata": {},
     "output_type": "execute_result"
    }
   ],
   "source": [
    "d_f.columns"
   ]
  },
  {
   "cell_type": "code",
   "execution_count": 74,
   "id": "34198332",
   "metadata": {},
   "outputs": [],
   "source": [
    "import scipy.stats as stats\n",
    "import seaborn as sns\n",
    "from sklearn.feature_selection import chi2\n",
    "from scipy.stats import chi2_contingency\n",
    "from scipy.stats import norm\n",
    "from scipy.stats import chi2"
   ]
  },
  {
   "cell_type": "code",
   "execution_count": 75,
   "id": "2eb4bbf0",
   "metadata": {},
   "outputs": [
    {
     "name": "stdout",
     "output_type": "stream",
     "text": [
      "Loan_Status     N    Y\n",
      "Property_Area         \n",
      "Rural          69  110\n",
      "Semiurban      54  179\n",
      "Urban          69  133\n"
     ]
    }
   ],
   "source": [
    "df_table = pd.crosstab(d_f['Property_Area'], d_f['Loan_Status'])\n",
    "print(df_table)"
   ]
  },
  {
   "cell_type": "code",
   "execution_count": 76,
   "id": "37546ce4",
   "metadata": {},
   "outputs": [
    {
     "name": "stdout",
     "output_type": "stream",
     "text": [
      "Observed Values:- \n",
      " [[ 69 110]\n",
      " [ 54 179]\n",
      " [ 69 133]]\n"
     ]
    }
   ],
   "source": [
    "observed_values = df_table.values\n",
    "print(\"Observed Values:- \\n\", observed_values)"
   ]
  },
  {
   "cell_type": "code",
   "execution_count": 77,
   "id": "f378bbde",
   "metadata": {},
   "outputs": [
    {
     "data": {
      "text/plain": [
       "(12.297623130485675,\n",
       " 0.0021360187811644937,\n",
       " 2,\n",
       " array([[ 55.97394137, 123.02605863],\n",
       "        [ 72.85993485, 160.14006515],\n",
       "        [ 63.16612378, 138.83387622]]))"
      ]
     },
     "execution_count": 77,
     "metadata": {},
     "output_type": "execute_result"
    }
   ],
   "source": [
    "val = chi2_contingency(df_table)\n",
    "val"
   ]
  },
  {
   "cell_type": "code",
   "execution_count": 78,
   "id": "15ee1a87",
   "metadata": {},
   "outputs": [
    {
     "data": {
      "text/plain": [
       "array([[ 55.97394137, 123.02605863],\n",
       "       [ 72.85993485, 160.14006515],\n",
       "       [ 63.16612378, 138.83387622]])"
      ]
     },
     "execution_count": 78,
     "metadata": {},
     "output_type": "execute_result"
    }
   ],
   "source": [
    "Expected_Values=val[3]\n",
    "Expected_Values"
   ]
  },
  {
   "cell_type": "code",
   "execution_count": 79,
   "id": "91282a86",
   "metadata": {},
   "outputs": [
    {
     "name": "stdout",
     "output_type": "stream",
     "text": [
      "Degree of Freedom:-  2\n"
     ]
    }
   ],
   "source": [
    "no_of_rows = len(df_table.iloc[0:3,0])\n",
    "no_of_cols = len(df_table.iloc[0,0:2])\n",
    "ddof = (no_of_rows - 1)*(no_of_cols - 1)\n",
    "print(\"Degree of Freedom:- \", dof)\n",
    "alpha =0.05"
   ]
  },
  {
   "cell_type": "code",
   "execution_count": 80,
   "id": "b2ae2c2b",
   "metadata": {},
   "outputs": [
    {
     "name": "stdout",
     "output_type": "stream",
     "text": [
      "chi_square_statstic:  585.4004817014663\n"
     ]
    }
   ],
   "source": [
    "chi_square = sum([o-e ** 2./e for o,e in zip(observed_values, Expected_values)])\n",
    "chi_square_statstic = chi_square[0] + chi_square[1]\n",
    "print(\"chi_square_statstic: \", chi_square_statstic)"
   ]
  },
  {
   "cell_type": "code",
   "execution_count": 81,
   "id": "2a8b9d59",
   "metadata": {
    "scrolled": true
   },
   "outputs": [
    {
     "name": "stdout",
     "output_type": "stream",
     "text": [
      "critical_value: 5.991464547107979\n"
     ]
    }
   ],
   "source": [
    "critical_value=chi2.ppf(q=1-alpha , df=ddof)\n",
    "print('critical_value:',critical_value)"
   ]
  },
  {
   "cell_type": "code",
   "execution_count": 83,
   "id": "ac2705a5",
   "metadata": {},
   "outputs": [
    {
     "name": "stdout",
     "output_type": "stream",
     "text": [
      "P-value:  0.0\n",
      "Significance level:  0.05\n",
      "Degree Of Freedom:  2\n"
     ]
    }
   ],
   "source": [
    "p_value = 1 - chi2.cdf(x = chi_square_statstic , df = ddof)\n",
    "print(\"P-value: \", p_value)\n",
    "print(\"Significance level: \", alpha)\n",
    "print(\"Degree Of Freedom: \",ddof)"
   ]
  },
  {
   "cell_type": "code",
   "execution_count": null,
   "id": "6dff1047",
   "metadata": {},
   "outputs": [],
   "source": []
  },
  {
   "cell_type": "code",
   "execution_count": 116,
   "id": "0c48fe49",
   "metadata": {},
   "outputs": [
    {
     "name": "stdout",
     "output_type": "stream",
     "text": [
      "Dependents     0   1   2  3+\n",
      "Loan_Status                 \n",
      "N            113  36  25  18\n",
      "Y            247  66  76  33\n"
     ]
    }
   ],
   "source": [
    "df_table = pd.crosstab(d_f['Loan_Status'], d_f['Dependents'])\n",
    "print(df_table)"
   ]
  },
  {
   "cell_type": "code",
   "execution_count": 117,
   "id": "0854c144",
   "metadata": {},
   "outputs": [
    {
     "name": "stdout",
     "output_type": "stream",
     "text": [
      "Observed Values2:- \n",
      " [[113  36  25  18]\n",
      " [247  66  76  33]]\n"
     ]
    }
   ],
   "source": [
    "observed_values2 = df_table.values\n",
    "print(\"Observed Values2:- \\n\", observed_values2)"
   ]
  },
  {
   "cell_type": "code",
   "execution_count": 118,
   "id": "393cc6b4",
   "metadata": {},
   "outputs": [
    {
     "data": {
      "text/plain": [
       "(3.1513990012324227,\n",
       " 0.3688663081366005,\n",
       " 3,\n",
       " array([[112.5732899 ,  31.89576547,  31.58306189,  15.94788274],\n",
       "        [247.4267101 ,  70.10423453,  69.41693811,  35.05211726]]))"
      ]
     },
     "execution_count": 118,
     "metadata": {},
     "output_type": "execute_result"
    }
   ],
   "source": [
    "val2 = chi2_contingency(df_table)\n",
    "val2"
   ]
  },
  {
   "cell_type": "code",
   "execution_count": 119,
   "id": "f77422c9",
   "metadata": {},
   "outputs": [
    {
     "data": {
      "text/plain": [
       "array([[112.5732899 ,  31.89576547,  31.58306189,  15.94788274],\n",
       "       [247.4267101 ,  70.10423453,  69.41693811,  35.05211726]])"
      ]
     },
     "execution_count": 119,
     "metadata": {},
     "output_type": "execute_result"
    }
   ],
   "source": [
    "Expected_Values_2=val2[3]\n",
    "Expected_Values_2"
   ]
  },
  {
   "cell_type": "code",
   "execution_count": 120,
   "id": "d54fce34",
   "metadata": {},
   "outputs": [
    {
     "name": "stdout",
     "output_type": "stream",
     "text": [
      "Degree of Freedom:-  3\n"
     ]
    }
   ],
   "source": [
    "no_of_rows = len(df_table.iloc[0:2,0])\n",
    "no_of_cols = len(df_table.iloc[0,0:4])\n",
    "ddof = (no_of_rows - 1)*(no_of_cols - 1)\n",
    "print(\"Degree of Freedom:- \", ddof)\n",
    "alpha =0.05"
   ]
  },
  {
   "cell_type": "code",
   "execution_count": 121,
   "id": "faac05e5",
   "metadata": {},
   "outputs": [
    {
     "name": "stdout",
     "output_type": "stream",
     "text": [
      "chi_square_statstic2:  0.0\n"
     ]
    }
   ],
   "source": [
    "chi_square2 = sum([o-e ** 2./e for o,e in zip(observed_values2, Expected_Values_2)])\n",
    "chi_square_statstic2 = chi_square2[0] + chi_square2[1]\n",
    "print(\"chi_square_statstic2: \", chi_square_statstic2)"
   ]
  },
  {
   "cell_type": "code",
   "execution_count": 122,
   "id": "7e28857c",
   "metadata": {},
   "outputs": [
    {
     "name": "stdout",
     "output_type": "stream",
     "text": [
      "critical_value2: 7.814727903251179\n"
     ]
    }
   ],
   "source": [
    "critical_value2=chi2.ppf(q=1-alpha , df=ddof)\n",
    "print('critical_value2:',critical_value2)"
   ]
  },
  {
   "cell_type": "code",
   "execution_count": 140,
   "id": "c73bf637",
   "metadata": {},
   "outputs": [
    {
     "data": {
      "text/html": [
       "<div>\n",
       "<style scoped>\n",
       "    .dataframe tbody tr th:only-of-type {\n",
       "        vertical-align: middle;\n",
       "    }\n",
       "\n",
       "    .dataframe tbody tr th {\n",
       "        vertical-align: top;\n",
       "    }\n",
       "\n",
       "    .dataframe thead th {\n",
       "        text-align: right;\n",
       "    }\n",
       "</style>\n",
       "<table border=\"1\" class=\"dataframe\">\n",
       "  <thead>\n",
       "    <tr style=\"text-align: right;\">\n",
       "      <th></th>\n",
       "      <th>count</th>\n",
       "      <th>mean</th>\n",
       "      <th>std</th>\n",
       "      <th>min</th>\n",
       "      <th>25%</th>\n",
       "      <th>50%</th>\n",
       "      <th>75%</th>\n",
       "      <th>max</th>\n",
       "    </tr>\n",
       "  </thead>\n",
       "  <tbody>\n",
       "    <tr>\n",
       "      <th>Unnamed: 0</th>\n",
       "      <td>614.0</td>\n",
       "      <td>306.500000</td>\n",
       "      <td>177.390811</td>\n",
       "      <td>0.0</td>\n",
       "      <td>153.25</td>\n",
       "      <td>306.5</td>\n",
       "      <td>459.75</td>\n",
       "      <td>613.0</td>\n",
       "    </tr>\n",
       "    <tr>\n",
       "      <th>ApplicantIncome</th>\n",
       "      <td>614.0</td>\n",
       "      <td>5403.459283</td>\n",
       "      <td>6109.041673</td>\n",
       "      <td>150.0</td>\n",
       "      <td>2877.50</td>\n",
       "      <td>3812.5</td>\n",
       "      <td>5795.00</td>\n",
       "      <td>81000.0</td>\n",
       "    </tr>\n",
       "    <tr>\n",
       "      <th>CoapplicantIncome</th>\n",
       "      <td>614.0</td>\n",
       "      <td>1621.245798</td>\n",
       "      <td>2926.248369</td>\n",
       "      <td>0.0</td>\n",
       "      <td>0.00</td>\n",
       "      <td>1188.5</td>\n",
       "      <td>2297.25</td>\n",
       "      <td>41667.0</td>\n",
       "    </tr>\n",
       "    <tr>\n",
       "      <th>LoanAmount</th>\n",
       "      <td>614.0</td>\n",
       "      <td>146.412162</td>\n",
       "      <td>84.037468</td>\n",
       "      <td>9.0</td>\n",
       "      <td>100.25</td>\n",
       "      <td>129.0</td>\n",
       "      <td>164.75</td>\n",
       "      <td>700.0</td>\n",
       "    </tr>\n",
       "    <tr>\n",
       "      <th>Loan_Amount_Term</th>\n",
       "      <td>614.0</td>\n",
       "      <td>342.410423</td>\n",
       "      <td>64.428629</td>\n",
       "      <td>12.0</td>\n",
       "      <td>360.00</td>\n",
       "      <td>360.0</td>\n",
       "      <td>360.00</td>\n",
       "      <td>480.0</td>\n",
       "    </tr>\n",
       "    <tr>\n",
       "      <th>Credit_History</th>\n",
       "      <td>614.0</td>\n",
       "      <td>0.855049</td>\n",
       "      <td>0.352339</td>\n",
       "      <td>0.0</td>\n",
       "      <td>1.00</td>\n",
       "      <td>1.0</td>\n",
       "      <td>1.00</td>\n",
       "      <td>1.0</td>\n",
       "    </tr>\n",
       "  </tbody>\n",
       "</table>\n",
       "</div>"
      ],
      "text/plain": [
       "                   count         mean          std    min      25%     50%  \\\n",
       "Unnamed: 0         614.0   306.500000   177.390811    0.0   153.25   306.5   \n",
       "ApplicantIncome    614.0  5403.459283  6109.041673  150.0  2877.50  3812.5   \n",
       "CoapplicantIncome  614.0  1621.245798  2926.248369    0.0     0.00  1188.5   \n",
       "LoanAmount         614.0   146.412162    84.037468    9.0   100.25   129.0   \n",
       "Loan_Amount_Term   614.0   342.410423    64.428629   12.0   360.00   360.0   \n",
       "Credit_History     614.0     0.855049     0.352339    0.0     1.00     1.0   \n",
       "\n",
       "                       75%      max  \n",
       "Unnamed: 0          459.75    613.0  \n",
       "ApplicantIncome    5795.00  81000.0  \n",
       "CoapplicantIncome  2297.25  41667.0  \n",
       "LoanAmount          164.75    700.0  \n",
       "Loan_Amount_Term    360.00    480.0  \n",
       "Credit_History        1.00      1.0  "
      ]
     },
     "execution_count": 140,
     "metadata": {},
     "output_type": "execute_result"
    }
   ],
   "source": [
    "d_f.describe().transpose()"
   ]
  },
  {
   "cell_type": "code",
   "execution_count": 149,
   "id": "cd21020b",
   "metadata": {},
   "outputs": [],
   "source": [
    "yes=d_f[d_f['Credit_History'] == 1.0]\n",
    "no=d_f[d_f['Credit_History'] == 0.0]"
   ]
  },
  {
   "cell_type": "code",
   "execution_count": 150,
   "id": "9f1ec787",
   "metadata": {},
   "outputs": [
    {
     "data": {
      "text/plain": [
       "(525, 14)"
      ]
     },
     "execution_count": 150,
     "metadata": {},
     "output_type": "execute_result"
    }
   ],
   "source": [
    "yes.shape"
   ]
  },
  {
   "cell_type": "code",
   "execution_count": 152,
   "id": "51761795",
   "metadata": {},
   "outputs": [
    {
     "data": {
      "text/plain": [
       "(89, 14)"
      ]
     },
     "execution_count": 152,
     "metadata": {},
     "output_type": "execute_result"
    }
   ],
   "source": [
    "no.shape"
   ]
  },
  {
   "cell_type": "code",
   "execution_count": 153,
   "id": "497b7d93",
   "metadata": {},
   "outputs": [
    {
     "name": "stdout",
     "output_type": "stream",
     "text": [
      "s1:  7099.09 \ts2:  6923.359\n",
      "n1:  524 \tn2:  88\n"
     ]
    }
   ],
   "source": [
    "s1 = yes.LoanAmount.var()\n",
    "n1 = yes.LoanAmount.count()-1\n",
    "s2 = no.LoanAmount.var()\n",
    "n2 = no.LoanAmount.count()-1\n",
    "\n",
    "print('s1: ',round(s1,3),'\\ts2: ',round(s2,3))\n",
    "print('n1: ',round(n1,3),'\\tn2: ',round(n2,3))"
   ]
  },
  {
   "cell_type": "code",
   "execution_count": 240,
   "id": "42eeb1cf",
   "metadata": {},
   "outputs": [
    {
     "data": {
      "text/plain": [
       "1.0253823063974707"
      ]
     },
     "execution_count": 240,
     "metadata": {},
     "output_type": "execute_result"
    }
   ],
   "source": [
    "F = s1/s2\n",
    "F"
   ]
  },
  {
   "cell_type": "code",
   "execution_count": 243,
   "id": "8244627d",
   "metadata": {},
   "outputs": [
    {
     "data": {
      "text/plain": [
       "1.3285544206680004"
      ]
     },
     "execution_count": 243,
     "metadata": {},
     "output_type": "execute_result"
    }
   ],
   "source": [
    "import scipy.stats\n",
    "FTableStat=scipy.stats.f.ppf(q=1-.05, dfn=n1, dfd=n2)\n",
    "FTableStat"
   ]
  },
  {
   "cell_type": "code",
   "execution_count": 244,
   "id": "d11b3acc",
   "metadata": {},
   "outputs": [
    {
     "name": "stdout",
     "output_type": "stream",
     "text": [
      "Accepting Null Hypothesis\n"
     ]
    }
   ],
   "source": [
    "if(abs(F)<FTableStat):\n",
    "    print(\"Accepting Null Hypothesis\")\n",
    "else:\n",
    "    print(\"Accepting Alternate Hypothesis\")"
   ]
  },
  {
   "cell_type": "code",
   "execution_count": null,
   "id": "753ede66",
   "metadata": {},
   "outputs": [],
   "source": []
  },
  {
   "cell_type": "code",
   "execution_count": null,
   "id": "2a3594f8",
   "metadata": {},
   "outputs": [],
   "source": []
  },
  {
   "cell_type": "code",
   "execution_count": null,
   "id": "561a2748",
   "metadata": {},
   "outputs": [],
   "source": []
  },
  {
   "cell_type": "code",
   "execution_count": null,
   "id": "6ee62d1f",
   "metadata": {},
   "outputs": [],
   "source": []
  },
  {
   "cell_type": "code",
   "execution_count": 130,
   "id": "0f1a3269",
   "metadata": {},
   "outputs": [],
   "source": [
    "yes=d_f[d_f['Loan_Status'] == 'Y']\n",
    "no=d_f[d_f['Loan_Status'] == 'N']"
   ]
  },
  {
   "cell_type": "code",
   "execution_count": 131,
   "id": "b11d6767",
   "metadata": {},
   "outputs": [
    {
     "name": "stdout",
     "output_type": "stream",
     "text": [
      "x1:  5384.069 \tx2:  5446.078\n",
      "s1:  5765.442 \ts2:  6819.559\n",
      "n1:  422 \tn2:  192\n",
      "degree of freedom:  612\n"
     ]
    }
   ],
   "source": [
    "x1 = yes.ApplicantIncome.mean()\n",
    "s1 = yes.ApplicantIncome.std()\n",
    "n1 = yes.ApplicantIncome.count()\n",
    "\n",
    "x2 = no.ApplicantIncome.mean()\n",
    "s2 = no.ApplicantIncome.std()\n",
    "n2 = no.ApplicantIncome.count()\n",
    "\n",
    "dof = n1+n2-2\n",
    "#one tail test\n",
    "#level of significance will be 95%\n",
    "\n",
    "print('x1: ',round(x1,3),'\\tx2: ',round(x2,3))\n",
    "print('s1: ',round(s1,3),'\\ts2: ',round(s2,3))\n",
    "print('n1: ',round(n1,3),'\\tn2: ',round(n2,3))\n",
    "print('degree of freedom: ',dof)"
   ]
  },
  {
   "cell_type": "markdown",
   "id": "5b3b9667",
   "metadata": {},
   "source": [
    "#Here we have sample statistics so we will apply t-test\n",
    "\n",
    "$t_{test} = \\frac{(x_1-x_2)}{\\sqrt{(s_1^2/n_1^2+s_2^2/n_2^2)}}$"
   ]
  },
  {
   "cell_type": "code",
   "execution_count": 134,
   "id": "c8e93f75",
   "metadata": {},
   "outputs": [
    {
     "name": "stdout",
     "output_type": "stream",
     "text": [
      "t_test: 0.109\n"
     ]
    }
   ],
   "source": [
    "t = (x1-x2)/np.sqrt(((s1**2)/n1)+((s2**2)/n2))\n",
    "print('t_test:', abs(round(t,3)))"
   ]
  },
  {
   "cell_type": "code",
   "execution_count": 139,
   "id": "8a862f71",
   "metadata": {},
   "outputs": [
    {
     "data": {
      "text/plain": [
       "1.647347241930401"
      ]
     },
     "execution_count": 139,
     "metadata": {},
     "output_type": "execute_result"
    }
   ],
   "source": [
    "from scipy import stats\n",
    "crtical = stats.t.ppf(1-0.05,df=dof)\n",
    "crticalt"
   ]
  },
  {
   "cell_type": "code",
   "execution_count": null,
   "id": "3190aeaa",
   "metadata": {},
   "outputs": [],
   "source": []
  },
  {
   "cell_type": "code",
   "execution_count": null,
   "id": "2c48731b",
   "metadata": {},
   "outputs": [],
   "source": []
  },
  {
   "cell_type": "code",
   "execution_count": null,
   "id": "44f745d5",
   "metadata": {},
   "outputs": [],
   "source": []
  },
  {
   "cell_type": "code",
   "execution_count": null,
   "id": "77ac284b",
   "metadata": {},
   "outputs": [],
   "source": []
  },
  {
   "cell_type": "code",
   "execution_count": null,
   "id": "4c945921",
   "metadata": {},
   "outputs": [],
   "source": []
  },
  {
   "cell_type": "code",
   "execution_count": null,
   "id": "f9f27b5d",
   "metadata": {},
   "outputs": [],
   "source": []
  },
  {
   "cell_type": "code",
   "execution_count": null,
   "id": "45cf79b8",
   "metadata": {},
   "outputs": [],
   "source": []
  },
  {
   "cell_type": "code",
   "execution_count": null,
   "id": "a268d4a4",
   "metadata": {},
   "outputs": [],
   "source": []
  },
  {
   "cell_type": "code",
   "execution_count": null,
   "id": "3fc0183b",
   "metadata": {},
   "outputs": [],
   "source": []
  },
  {
   "cell_type": "code",
   "execution_count": null,
   "id": "4d8fc076",
   "metadata": {},
   "outputs": [],
   "source": []
  },
  {
   "cell_type": "code",
   "execution_count": null,
   "id": "f6472a2e",
   "metadata": {},
   "outputs": [],
   "source": []
  },
  {
   "cell_type": "code",
   "execution_count": null,
   "id": "340323db",
   "metadata": {},
   "outputs": [],
   "source": []
  },
  {
   "cell_type": "code",
   "execution_count": 135,
   "id": "fe2a73fa",
   "metadata": {},
   "outputs": [
    {
     "data": {
      "text/plain": [
       "1.647347241930401"
      ]
     },
     "execution_count": 135,
     "metadata": {},
     "output_type": "execute_result"
    }
   ],
   "source": []
  },
  {
   "cell_type": "markdown",
   "id": "dcb9fe82",
   "metadata": {},
   "source": [
    "\n",
    "So our calculated value is greater than table value\n",
    "\n",
    "$\\therefore we \\ will \\ reject \\ null \\ hypothesis \\ in \\ favour \\ of \\ alternate \\ hypothesis$"
   ]
  },
  {
   "cell_type": "code",
   "execution_count": null,
   "id": "d064e03c",
   "metadata": {},
   "outputs": [],
   "source": []
  },
  {
   "cell_type": "code",
   "execution_count": 189,
   "id": "2f9774ba",
   "metadata": {},
   "outputs": [],
   "source": [
    "d_f['Loan_Status']=d_f['Loan_Status'].replace(\"N\",0)"
   ]
  },
  {
   "cell_type": "code",
   "execution_count": 190,
   "id": "ed208c9e",
   "metadata": {},
   "outputs": [
    {
     "data": {
      "text/plain": [
       "0      1\n",
       "1      0\n",
       "2      1\n",
       "3      1\n",
       "4      1\n",
       "      ..\n",
       "609    1\n",
       "610    1\n",
       "611    1\n",
       "612    1\n",
       "613    0\n",
       "Name: Loan_Status, Length: 614, dtype: int64"
      ]
     },
     "execution_count": 190,
     "metadata": {},
     "output_type": "execute_result"
    }
   ],
   "source": [
    "d_f['Loan_Status']"
   ]
  },
  {
   "cell_type": "code",
   "execution_count": 162,
   "id": "fe1141cb",
   "metadata": {},
   "outputs": [
    {
     "data": {
      "text/plain": [
       "Unnamed: 0           1\n",
       "ApplicantIncome      1\n",
       "CoapplicantIncome    1\n",
       "LoanAmount           1\n",
       "Loan_Amount_Term     1\n",
       "Credit_History       1\n",
       "dtype: int64"
      ]
     },
     "execution_count": 162,
     "metadata": {},
     "output_type": "execute_result"
    }
   ],
   "source": [
    "(d_f.corr() >=0.6).sum()"
   ]
  },
  {
   "cell_type": "code",
   "execution_count": 191,
   "id": "65ea3b1b",
   "metadata": {},
   "outputs": [
    {
     "data": {
      "text/plain": [
       "Index(['Unnamed: 0', 'Loan_ID', 'Gender', 'Married', 'Dependents', 'Education',\n",
       "       'Self_Employed', 'ApplicantIncome', 'CoapplicantIncome', 'LoanAmount',\n",
       "       'Loan_Amount_Term', 'Credit_History', 'Property_Area', 'Loan_Status'],\n",
       "      dtype='object')"
      ]
     },
     "execution_count": 191,
     "metadata": {},
     "output_type": "execute_result"
    }
   ],
   "source": [
    "d_f.columns"
   ]
  },
  {
   "cell_type": "code",
   "execution_count": 197,
   "id": "bf22e1f4",
   "metadata": {},
   "outputs": [],
   "source": [
    "d_f_logit=pd.get_dummies(d_f,columns=['Gender','Married','Dependents','Education','Self_Employed','Property_Area'])"
   ]
  },
  {
   "cell_type": "code",
   "execution_count": 198,
   "id": "27aadb89",
   "metadata": {},
   "outputs": [
    {
     "data": {
      "text/html": [
       "<div>\n",
       "<style scoped>\n",
       "    .dataframe tbody tr th:only-of-type {\n",
       "        vertical-align: middle;\n",
       "    }\n",
       "\n",
       "    .dataframe tbody tr th {\n",
       "        vertical-align: top;\n",
       "    }\n",
       "\n",
       "    .dataframe thead th {\n",
       "        text-align: right;\n",
       "    }\n",
       "</style>\n",
       "<table border=\"1\" class=\"dataframe\">\n",
       "  <thead>\n",
       "    <tr style=\"text-align: right;\">\n",
       "      <th></th>\n",
       "      <th>Unnamed: 0</th>\n",
       "      <th>Loan_ID</th>\n",
       "      <th>ApplicantIncome</th>\n",
       "      <th>CoapplicantIncome</th>\n",
       "      <th>LoanAmount</th>\n",
       "      <th>Loan_Amount_Term</th>\n",
       "      <th>Credit_History</th>\n",
       "      <th>Loan_Status</th>\n",
       "      <th>Gender_Female</th>\n",
       "      <th>Gender_Male</th>\n",
       "      <th>...</th>\n",
       "      <th>Dependents_1</th>\n",
       "      <th>Dependents_2</th>\n",
       "      <th>Dependents_3+</th>\n",
       "      <th>Education_Graduate</th>\n",
       "      <th>Education_Not Graduate</th>\n",
       "      <th>Self_Employed_No</th>\n",
       "      <th>Self_Employed_Yes</th>\n",
       "      <th>Property_Area_Rural</th>\n",
       "      <th>Property_Area_Semiurban</th>\n",
       "      <th>Property_Area_Urban</th>\n",
       "    </tr>\n",
       "  </thead>\n",
       "  <tbody>\n",
       "    <tr>\n",
       "      <th>0</th>\n",
       "      <td>0</td>\n",
       "      <td>LP001002</td>\n",
       "      <td>5849</td>\n",
       "      <td>0.0</td>\n",
       "      <td>146.412162</td>\n",
       "      <td>360.0</td>\n",
       "      <td>1.0</td>\n",
       "      <td>1</td>\n",
       "      <td>0</td>\n",
       "      <td>1</td>\n",
       "      <td>...</td>\n",
       "      <td>0</td>\n",
       "      <td>0</td>\n",
       "      <td>0</td>\n",
       "      <td>1</td>\n",
       "      <td>0</td>\n",
       "      <td>1</td>\n",
       "      <td>0</td>\n",
       "      <td>0</td>\n",
       "      <td>0</td>\n",
       "      <td>1</td>\n",
       "    </tr>\n",
       "    <tr>\n",
       "      <th>1</th>\n",
       "      <td>1</td>\n",
       "      <td>LP001003</td>\n",
       "      <td>4583</td>\n",
       "      <td>1508.0</td>\n",
       "      <td>128.000000</td>\n",
       "      <td>360.0</td>\n",
       "      <td>1.0</td>\n",
       "      <td>0</td>\n",
       "      <td>0</td>\n",
       "      <td>1</td>\n",
       "      <td>...</td>\n",
       "      <td>1</td>\n",
       "      <td>0</td>\n",
       "      <td>0</td>\n",
       "      <td>1</td>\n",
       "      <td>0</td>\n",
       "      <td>1</td>\n",
       "      <td>0</td>\n",
       "      <td>1</td>\n",
       "      <td>0</td>\n",
       "      <td>0</td>\n",
       "    </tr>\n",
       "    <tr>\n",
       "      <th>2</th>\n",
       "      <td>2</td>\n",
       "      <td>LP001005</td>\n",
       "      <td>3000</td>\n",
       "      <td>0.0</td>\n",
       "      <td>66.000000</td>\n",
       "      <td>360.0</td>\n",
       "      <td>1.0</td>\n",
       "      <td>1</td>\n",
       "      <td>0</td>\n",
       "      <td>1</td>\n",
       "      <td>...</td>\n",
       "      <td>0</td>\n",
       "      <td>0</td>\n",
       "      <td>0</td>\n",
       "      <td>1</td>\n",
       "      <td>0</td>\n",
       "      <td>0</td>\n",
       "      <td>1</td>\n",
       "      <td>0</td>\n",
       "      <td>0</td>\n",
       "      <td>1</td>\n",
       "    </tr>\n",
       "    <tr>\n",
       "      <th>3</th>\n",
       "      <td>3</td>\n",
       "      <td>LP001006</td>\n",
       "      <td>2583</td>\n",
       "      <td>2358.0</td>\n",
       "      <td>120.000000</td>\n",
       "      <td>360.0</td>\n",
       "      <td>1.0</td>\n",
       "      <td>1</td>\n",
       "      <td>0</td>\n",
       "      <td>1</td>\n",
       "      <td>...</td>\n",
       "      <td>0</td>\n",
       "      <td>0</td>\n",
       "      <td>0</td>\n",
       "      <td>0</td>\n",
       "      <td>1</td>\n",
       "      <td>1</td>\n",
       "      <td>0</td>\n",
       "      <td>0</td>\n",
       "      <td>0</td>\n",
       "      <td>1</td>\n",
       "    </tr>\n",
       "    <tr>\n",
       "      <th>4</th>\n",
       "      <td>4</td>\n",
       "      <td>LP001008</td>\n",
       "      <td>6000</td>\n",
       "      <td>0.0</td>\n",
       "      <td>141.000000</td>\n",
       "      <td>360.0</td>\n",
       "      <td>1.0</td>\n",
       "      <td>1</td>\n",
       "      <td>0</td>\n",
       "      <td>1</td>\n",
       "      <td>...</td>\n",
       "      <td>0</td>\n",
       "      <td>0</td>\n",
       "      <td>0</td>\n",
       "      <td>1</td>\n",
       "      <td>0</td>\n",
       "      <td>1</td>\n",
       "      <td>0</td>\n",
       "      <td>0</td>\n",
       "      <td>0</td>\n",
       "      <td>1</td>\n",
       "    </tr>\n",
       "    <tr>\n",
       "      <th>...</th>\n",
       "      <td>...</td>\n",
       "      <td>...</td>\n",
       "      <td>...</td>\n",
       "      <td>...</td>\n",
       "      <td>...</td>\n",
       "      <td>...</td>\n",
       "      <td>...</td>\n",
       "      <td>...</td>\n",
       "      <td>...</td>\n",
       "      <td>...</td>\n",
       "      <td>...</td>\n",
       "      <td>...</td>\n",
       "      <td>...</td>\n",
       "      <td>...</td>\n",
       "      <td>...</td>\n",
       "      <td>...</td>\n",
       "      <td>...</td>\n",
       "      <td>...</td>\n",
       "      <td>...</td>\n",
       "      <td>...</td>\n",
       "      <td>...</td>\n",
       "    </tr>\n",
       "    <tr>\n",
       "      <th>609</th>\n",
       "      <td>609</td>\n",
       "      <td>LP002978</td>\n",
       "      <td>2900</td>\n",
       "      <td>0.0</td>\n",
       "      <td>71.000000</td>\n",
       "      <td>360.0</td>\n",
       "      <td>1.0</td>\n",
       "      <td>1</td>\n",
       "      <td>1</td>\n",
       "      <td>0</td>\n",
       "      <td>...</td>\n",
       "      <td>0</td>\n",
       "      <td>0</td>\n",
       "      <td>0</td>\n",
       "      <td>1</td>\n",
       "      <td>0</td>\n",
       "      <td>1</td>\n",
       "      <td>0</td>\n",
       "      <td>1</td>\n",
       "      <td>0</td>\n",
       "      <td>0</td>\n",
       "    </tr>\n",
       "    <tr>\n",
       "      <th>610</th>\n",
       "      <td>610</td>\n",
       "      <td>LP002979</td>\n",
       "      <td>4106</td>\n",
       "      <td>0.0</td>\n",
       "      <td>40.000000</td>\n",
       "      <td>180.0</td>\n",
       "      <td>1.0</td>\n",
       "      <td>1</td>\n",
       "      <td>0</td>\n",
       "      <td>1</td>\n",
       "      <td>...</td>\n",
       "      <td>0</td>\n",
       "      <td>0</td>\n",
       "      <td>1</td>\n",
       "      <td>1</td>\n",
       "      <td>0</td>\n",
       "      <td>1</td>\n",
       "      <td>0</td>\n",
       "      <td>1</td>\n",
       "      <td>0</td>\n",
       "      <td>0</td>\n",
       "    </tr>\n",
       "    <tr>\n",
       "      <th>611</th>\n",
       "      <td>611</td>\n",
       "      <td>LP002983</td>\n",
       "      <td>8072</td>\n",
       "      <td>240.0</td>\n",
       "      <td>253.000000</td>\n",
       "      <td>360.0</td>\n",
       "      <td>1.0</td>\n",
       "      <td>1</td>\n",
       "      <td>0</td>\n",
       "      <td>1</td>\n",
       "      <td>...</td>\n",
       "      <td>1</td>\n",
       "      <td>0</td>\n",
       "      <td>0</td>\n",
       "      <td>1</td>\n",
       "      <td>0</td>\n",
       "      <td>1</td>\n",
       "      <td>0</td>\n",
       "      <td>0</td>\n",
       "      <td>0</td>\n",
       "      <td>1</td>\n",
       "    </tr>\n",
       "    <tr>\n",
       "      <th>612</th>\n",
       "      <td>612</td>\n",
       "      <td>LP002984</td>\n",
       "      <td>7583</td>\n",
       "      <td>0.0</td>\n",
       "      <td>187.000000</td>\n",
       "      <td>360.0</td>\n",
       "      <td>1.0</td>\n",
       "      <td>1</td>\n",
       "      <td>0</td>\n",
       "      <td>1</td>\n",
       "      <td>...</td>\n",
       "      <td>0</td>\n",
       "      <td>1</td>\n",
       "      <td>0</td>\n",
       "      <td>1</td>\n",
       "      <td>0</td>\n",
       "      <td>1</td>\n",
       "      <td>0</td>\n",
       "      <td>0</td>\n",
       "      <td>0</td>\n",
       "      <td>1</td>\n",
       "    </tr>\n",
       "    <tr>\n",
       "      <th>613</th>\n",
       "      <td>613</td>\n",
       "      <td>LP002990</td>\n",
       "      <td>4583</td>\n",
       "      <td>0.0</td>\n",
       "      <td>133.000000</td>\n",
       "      <td>360.0</td>\n",
       "      <td>0.0</td>\n",
       "      <td>0</td>\n",
       "      <td>1</td>\n",
       "      <td>0</td>\n",
       "      <td>...</td>\n",
       "      <td>0</td>\n",
       "      <td>0</td>\n",
       "      <td>0</td>\n",
       "      <td>1</td>\n",
       "      <td>0</td>\n",
       "      <td>0</td>\n",
       "      <td>1</td>\n",
       "      <td>0</td>\n",
       "      <td>1</td>\n",
       "      <td>0</td>\n",
       "    </tr>\n",
       "  </tbody>\n",
       "</table>\n",
       "<p>614 rows × 23 columns</p>\n",
       "</div>"
      ],
      "text/plain": [
       "     Unnamed: 0   Loan_ID  ApplicantIncome  CoapplicantIncome  LoanAmount  \\\n",
       "0             0  LP001002             5849                0.0  146.412162   \n",
       "1             1  LP001003             4583             1508.0  128.000000   \n",
       "2             2  LP001005             3000                0.0   66.000000   \n",
       "3             3  LP001006             2583             2358.0  120.000000   \n",
       "4             4  LP001008             6000                0.0  141.000000   \n",
       "..          ...       ...              ...                ...         ...   \n",
       "609         609  LP002978             2900                0.0   71.000000   \n",
       "610         610  LP002979             4106                0.0   40.000000   \n",
       "611         611  LP002983             8072              240.0  253.000000   \n",
       "612         612  LP002984             7583                0.0  187.000000   \n",
       "613         613  LP002990             4583                0.0  133.000000   \n",
       "\n",
       "     Loan_Amount_Term  Credit_History  Loan_Status  Gender_Female  \\\n",
       "0               360.0             1.0            1              0   \n",
       "1               360.0             1.0            0              0   \n",
       "2               360.0             1.0            1              0   \n",
       "3               360.0             1.0            1              0   \n",
       "4               360.0             1.0            1              0   \n",
       "..                ...             ...          ...            ...   \n",
       "609             360.0             1.0            1              1   \n",
       "610             180.0             1.0            1              0   \n",
       "611             360.0             1.0            1              0   \n",
       "612             360.0             1.0            1              0   \n",
       "613             360.0             0.0            0              1   \n",
       "\n",
       "     Gender_Male  ...  Dependents_1  Dependents_2  Dependents_3+  \\\n",
       "0              1  ...             0             0              0   \n",
       "1              1  ...             1             0              0   \n",
       "2              1  ...             0             0              0   \n",
       "3              1  ...             0             0              0   \n",
       "4              1  ...             0             0              0   \n",
       "..           ...  ...           ...           ...            ...   \n",
       "609            0  ...             0             0              0   \n",
       "610            1  ...             0             0              1   \n",
       "611            1  ...             1             0              0   \n",
       "612            1  ...             0             1              0   \n",
       "613            0  ...             0             0              0   \n",
       "\n",
       "     Education_Graduate  Education_Not Graduate  Self_Employed_No  \\\n",
       "0                     1                       0                 1   \n",
       "1                     1                       0                 1   \n",
       "2                     1                       0                 0   \n",
       "3                     0                       1                 1   \n",
       "4                     1                       0                 1   \n",
       "..                  ...                     ...               ...   \n",
       "609                   1                       0                 1   \n",
       "610                   1                       0                 1   \n",
       "611                   1                       0                 1   \n",
       "612                   1                       0                 1   \n",
       "613                   1                       0                 0   \n",
       "\n",
       "     Self_Employed_Yes  Property_Area_Rural  Property_Area_Semiurban  \\\n",
       "0                    0                    0                        0   \n",
       "1                    0                    1                        0   \n",
       "2                    1                    0                        0   \n",
       "3                    0                    0                        0   \n",
       "4                    0                    0                        0   \n",
       "..                 ...                  ...                      ...   \n",
       "609                  0                    1                        0   \n",
       "610                  0                    1                        0   \n",
       "611                  0                    0                        0   \n",
       "612                  0                    0                        0   \n",
       "613                  1                    0                        1   \n",
       "\n",
       "     Property_Area_Urban  \n",
       "0                      1  \n",
       "1                      0  \n",
       "2                      1  \n",
       "3                      1  \n",
       "4                      1  \n",
       "..                   ...  \n",
       "609                    0  \n",
       "610                    0  \n",
       "611                    1  \n",
       "612                    1  \n",
       "613                    0  \n",
       "\n",
       "[614 rows x 23 columns]"
      ]
     },
     "execution_count": 198,
     "metadata": {},
     "output_type": "execute_result"
    }
   ],
   "source": [
    "d_f_logit"
   ]
  },
  {
   "cell_type": "code",
   "execution_count": 193,
   "id": "97a8dca8",
   "metadata": {
    "scrolled": true
   },
   "outputs": [
    {
     "data": {
      "text/html": [
       "<div>\n",
       "<style scoped>\n",
       "    .dataframe tbody tr th:only-of-type {\n",
       "        vertical-align: middle;\n",
       "    }\n",
       "\n",
       "    .dataframe tbody tr th {\n",
       "        vertical-align: top;\n",
       "    }\n",
       "\n",
       "    .dataframe thead th {\n",
       "        text-align: right;\n",
       "    }\n",
       "</style>\n",
       "<table border=\"1\" class=\"dataframe\">\n",
       "  <thead>\n",
       "    <tr style=\"text-align: right;\">\n",
       "      <th></th>\n",
       "      <th>Unnamed: 0</th>\n",
       "      <th>Loan_ID</th>\n",
       "      <th>ApplicantIncome</th>\n",
       "      <th>CoapplicantIncome</th>\n",
       "      <th>LoanAmount</th>\n",
       "      <th>Loan_Amount_Term</th>\n",
       "      <th>Credit_History</th>\n",
       "      <th>Loan_Status</th>\n",
       "      <th>Gender_Female</th>\n",
       "      <th>Gender_Male</th>\n",
       "      <th>...</th>\n",
       "      <th>Dependents_1</th>\n",
       "      <th>Dependents_2</th>\n",
       "      <th>Dependents_3+</th>\n",
       "      <th>Education_Graduate</th>\n",
       "      <th>Education_Not Graduate</th>\n",
       "      <th>Self_Employed_No</th>\n",
       "      <th>Self_Employed_Yes</th>\n",
       "      <th>Property_Area_Rural</th>\n",
       "      <th>Property_Area_Semiurban</th>\n",
       "      <th>Property_Area_Urban</th>\n",
       "    </tr>\n",
       "  </thead>\n",
       "  <tbody>\n",
       "    <tr>\n",
       "      <th>0</th>\n",
       "      <td>0</td>\n",
       "      <td>LP001002</td>\n",
       "      <td>5849</td>\n",
       "      <td>0.0</td>\n",
       "      <td>146.412162</td>\n",
       "      <td>360.0</td>\n",
       "      <td>1.0</td>\n",
       "      <td>1</td>\n",
       "      <td>0</td>\n",
       "      <td>1</td>\n",
       "      <td>...</td>\n",
       "      <td>0</td>\n",
       "      <td>0</td>\n",
       "      <td>0</td>\n",
       "      <td>1</td>\n",
       "      <td>0</td>\n",
       "      <td>1</td>\n",
       "      <td>0</td>\n",
       "      <td>0</td>\n",
       "      <td>0</td>\n",
       "      <td>1</td>\n",
       "    </tr>\n",
       "    <tr>\n",
       "      <th>1</th>\n",
       "      <td>1</td>\n",
       "      <td>LP001003</td>\n",
       "      <td>4583</td>\n",
       "      <td>1508.0</td>\n",
       "      <td>128.000000</td>\n",
       "      <td>360.0</td>\n",
       "      <td>1.0</td>\n",
       "      <td>0</td>\n",
       "      <td>0</td>\n",
       "      <td>1</td>\n",
       "      <td>...</td>\n",
       "      <td>1</td>\n",
       "      <td>0</td>\n",
       "      <td>0</td>\n",
       "      <td>1</td>\n",
       "      <td>0</td>\n",
       "      <td>1</td>\n",
       "      <td>0</td>\n",
       "      <td>1</td>\n",
       "      <td>0</td>\n",
       "      <td>0</td>\n",
       "    </tr>\n",
       "    <tr>\n",
       "      <th>2</th>\n",
       "      <td>2</td>\n",
       "      <td>LP001005</td>\n",
       "      <td>3000</td>\n",
       "      <td>0.0</td>\n",
       "      <td>66.000000</td>\n",
       "      <td>360.0</td>\n",
       "      <td>1.0</td>\n",
       "      <td>1</td>\n",
       "      <td>0</td>\n",
       "      <td>1</td>\n",
       "      <td>...</td>\n",
       "      <td>0</td>\n",
       "      <td>0</td>\n",
       "      <td>0</td>\n",
       "      <td>1</td>\n",
       "      <td>0</td>\n",
       "      <td>0</td>\n",
       "      <td>1</td>\n",
       "      <td>0</td>\n",
       "      <td>0</td>\n",
       "      <td>1</td>\n",
       "    </tr>\n",
       "    <tr>\n",
       "      <th>3</th>\n",
       "      <td>3</td>\n",
       "      <td>LP001006</td>\n",
       "      <td>2583</td>\n",
       "      <td>2358.0</td>\n",
       "      <td>120.000000</td>\n",
       "      <td>360.0</td>\n",
       "      <td>1.0</td>\n",
       "      <td>1</td>\n",
       "      <td>0</td>\n",
       "      <td>1</td>\n",
       "      <td>...</td>\n",
       "      <td>0</td>\n",
       "      <td>0</td>\n",
       "      <td>0</td>\n",
       "      <td>0</td>\n",
       "      <td>1</td>\n",
       "      <td>1</td>\n",
       "      <td>0</td>\n",
       "      <td>0</td>\n",
       "      <td>0</td>\n",
       "      <td>1</td>\n",
       "    </tr>\n",
       "    <tr>\n",
       "      <th>4</th>\n",
       "      <td>4</td>\n",
       "      <td>LP001008</td>\n",
       "      <td>6000</td>\n",
       "      <td>0.0</td>\n",
       "      <td>141.000000</td>\n",
       "      <td>360.0</td>\n",
       "      <td>1.0</td>\n",
       "      <td>1</td>\n",
       "      <td>0</td>\n",
       "      <td>1</td>\n",
       "      <td>...</td>\n",
       "      <td>0</td>\n",
       "      <td>0</td>\n",
       "      <td>0</td>\n",
       "      <td>1</td>\n",
       "      <td>0</td>\n",
       "      <td>1</td>\n",
       "      <td>0</td>\n",
       "      <td>0</td>\n",
       "      <td>0</td>\n",
       "      <td>1</td>\n",
       "    </tr>\n",
       "    <tr>\n",
       "      <th>...</th>\n",
       "      <td>...</td>\n",
       "      <td>...</td>\n",
       "      <td>...</td>\n",
       "      <td>...</td>\n",
       "      <td>...</td>\n",
       "      <td>...</td>\n",
       "      <td>...</td>\n",
       "      <td>...</td>\n",
       "      <td>...</td>\n",
       "      <td>...</td>\n",
       "      <td>...</td>\n",
       "      <td>...</td>\n",
       "      <td>...</td>\n",
       "      <td>...</td>\n",
       "      <td>...</td>\n",
       "      <td>...</td>\n",
       "      <td>...</td>\n",
       "      <td>...</td>\n",
       "      <td>...</td>\n",
       "      <td>...</td>\n",
       "      <td>...</td>\n",
       "    </tr>\n",
       "    <tr>\n",
       "      <th>609</th>\n",
       "      <td>609</td>\n",
       "      <td>LP002978</td>\n",
       "      <td>2900</td>\n",
       "      <td>0.0</td>\n",
       "      <td>71.000000</td>\n",
       "      <td>360.0</td>\n",
       "      <td>1.0</td>\n",
       "      <td>1</td>\n",
       "      <td>1</td>\n",
       "      <td>0</td>\n",
       "      <td>...</td>\n",
       "      <td>0</td>\n",
       "      <td>0</td>\n",
       "      <td>0</td>\n",
       "      <td>1</td>\n",
       "      <td>0</td>\n",
       "      <td>1</td>\n",
       "      <td>0</td>\n",
       "      <td>1</td>\n",
       "      <td>0</td>\n",
       "      <td>0</td>\n",
       "    </tr>\n",
       "    <tr>\n",
       "      <th>610</th>\n",
       "      <td>610</td>\n",
       "      <td>LP002979</td>\n",
       "      <td>4106</td>\n",
       "      <td>0.0</td>\n",
       "      <td>40.000000</td>\n",
       "      <td>180.0</td>\n",
       "      <td>1.0</td>\n",
       "      <td>1</td>\n",
       "      <td>0</td>\n",
       "      <td>1</td>\n",
       "      <td>...</td>\n",
       "      <td>0</td>\n",
       "      <td>0</td>\n",
       "      <td>1</td>\n",
       "      <td>1</td>\n",
       "      <td>0</td>\n",
       "      <td>1</td>\n",
       "      <td>0</td>\n",
       "      <td>1</td>\n",
       "      <td>0</td>\n",
       "      <td>0</td>\n",
       "    </tr>\n",
       "    <tr>\n",
       "      <th>611</th>\n",
       "      <td>611</td>\n",
       "      <td>LP002983</td>\n",
       "      <td>8072</td>\n",
       "      <td>240.0</td>\n",
       "      <td>253.000000</td>\n",
       "      <td>360.0</td>\n",
       "      <td>1.0</td>\n",
       "      <td>1</td>\n",
       "      <td>0</td>\n",
       "      <td>1</td>\n",
       "      <td>...</td>\n",
       "      <td>1</td>\n",
       "      <td>0</td>\n",
       "      <td>0</td>\n",
       "      <td>1</td>\n",
       "      <td>0</td>\n",
       "      <td>1</td>\n",
       "      <td>0</td>\n",
       "      <td>0</td>\n",
       "      <td>0</td>\n",
       "      <td>1</td>\n",
       "    </tr>\n",
       "    <tr>\n",
       "      <th>612</th>\n",
       "      <td>612</td>\n",
       "      <td>LP002984</td>\n",
       "      <td>7583</td>\n",
       "      <td>0.0</td>\n",
       "      <td>187.000000</td>\n",
       "      <td>360.0</td>\n",
       "      <td>1.0</td>\n",
       "      <td>1</td>\n",
       "      <td>0</td>\n",
       "      <td>1</td>\n",
       "      <td>...</td>\n",
       "      <td>0</td>\n",
       "      <td>1</td>\n",
       "      <td>0</td>\n",
       "      <td>1</td>\n",
       "      <td>0</td>\n",
       "      <td>1</td>\n",
       "      <td>0</td>\n",
       "      <td>0</td>\n",
       "      <td>0</td>\n",
       "      <td>1</td>\n",
       "    </tr>\n",
       "    <tr>\n",
       "      <th>613</th>\n",
       "      <td>613</td>\n",
       "      <td>LP002990</td>\n",
       "      <td>4583</td>\n",
       "      <td>0.0</td>\n",
       "      <td>133.000000</td>\n",
       "      <td>360.0</td>\n",
       "      <td>0.0</td>\n",
       "      <td>0</td>\n",
       "      <td>1</td>\n",
       "      <td>0</td>\n",
       "      <td>...</td>\n",
       "      <td>0</td>\n",
       "      <td>0</td>\n",
       "      <td>0</td>\n",
       "      <td>1</td>\n",
       "      <td>0</td>\n",
       "      <td>0</td>\n",
       "      <td>1</td>\n",
       "      <td>0</td>\n",
       "      <td>1</td>\n",
       "      <td>0</td>\n",
       "    </tr>\n",
       "  </tbody>\n",
       "</table>\n",
       "<p>614 rows × 23 columns</p>\n",
       "</div>"
      ],
      "text/plain": [
       "     Unnamed: 0   Loan_ID  ApplicantIncome  CoapplicantIncome  LoanAmount  \\\n",
       "0             0  LP001002             5849                0.0  146.412162   \n",
       "1             1  LP001003             4583             1508.0  128.000000   \n",
       "2             2  LP001005             3000                0.0   66.000000   \n",
       "3             3  LP001006             2583             2358.0  120.000000   \n",
       "4             4  LP001008             6000                0.0  141.000000   \n",
       "..          ...       ...              ...                ...         ...   \n",
       "609         609  LP002978             2900                0.0   71.000000   \n",
       "610         610  LP002979             4106                0.0   40.000000   \n",
       "611         611  LP002983             8072              240.0  253.000000   \n",
       "612         612  LP002984             7583                0.0  187.000000   \n",
       "613         613  LP002990             4583                0.0  133.000000   \n",
       "\n",
       "     Loan_Amount_Term  Credit_History  Loan_Status  Gender_Female  \\\n",
       "0               360.0             1.0            1              0   \n",
       "1               360.0             1.0            0              0   \n",
       "2               360.0             1.0            1              0   \n",
       "3               360.0             1.0            1              0   \n",
       "4               360.0             1.0            1              0   \n",
       "..                ...             ...          ...            ...   \n",
       "609             360.0             1.0            1              1   \n",
       "610             180.0             1.0            1              0   \n",
       "611             360.0             1.0            1              0   \n",
       "612             360.0             1.0            1              0   \n",
       "613             360.0             0.0            0              1   \n",
       "\n",
       "     Gender_Male  ...  Dependents_1  Dependents_2  Dependents_3+  \\\n",
       "0              1  ...             0             0              0   \n",
       "1              1  ...             1             0              0   \n",
       "2              1  ...             0             0              0   \n",
       "3              1  ...             0             0              0   \n",
       "4              1  ...             0             0              0   \n",
       "..           ...  ...           ...           ...            ...   \n",
       "609            0  ...             0             0              0   \n",
       "610            1  ...             0             0              1   \n",
       "611            1  ...             1             0              0   \n",
       "612            1  ...             0             1              0   \n",
       "613            0  ...             0             0              0   \n",
       "\n",
       "     Education_Graduate  Education_Not Graduate  Self_Employed_No  \\\n",
       "0                     1                       0                 1   \n",
       "1                     1                       0                 1   \n",
       "2                     1                       0                 0   \n",
       "3                     0                       1                 1   \n",
       "4                     1                       0                 1   \n",
       "..                  ...                     ...               ...   \n",
       "609                   1                       0                 1   \n",
       "610                   1                       0                 1   \n",
       "611                   1                       0                 1   \n",
       "612                   1                       0                 1   \n",
       "613                   1                       0                 0   \n",
       "\n",
       "     Self_Employed_Yes  Property_Area_Rural  Property_Area_Semiurban  \\\n",
       "0                    0                    0                        0   \n",
       "1                    0                    1                        0   \n",
       "2                    1                    0                        0   \n",
       "3                    0                    0                        0   \n",
       "4                    0                    0                        0   \n",
       "..                 ...                  ...                      ...   \n",
       "609                  0                    1                        0   \n",
       "610                  0                    1                        0   \n",
       "611                  0                    0                        0   \n",
       "612                  0                    0                        0   \n",
       "613                  1                    0                        1   \n",
       "\n",
       "     Property_Area_Urban  \n",
       "0                      1  \n",
       "1                      0  \n",
       "2                      1  \n",
       "3                      1  \n",
       "4                      1  \n",
       "..                   ...  \n",
       "609                    0  \n",
       "610                    0  \n",
       "611                    1  \n",
       "612                    1  \n",
       "613                    0  \n",
       "\n",
       "[614 rows x 23 columns]"
      ]
     },
     "execution_count": 193,
     "metadata": {},
     "output_type": "execute_result"
    }
   ],
   "source": [
    "d_f_logit"
   ]
  },
  {
   "cell_type": "code",
   "execution_count": 201,
   "id": "8e66924e",
   "metadata": {},
   "outputs": [
    {
     "data": {
      "text/plain": [
       "Index(['Unnamed: 0', 'Loan_ID', 'ApplicantIncome', 'CoapplicantIncome',\n",
       "       'LoanAmount', 'Loan_Amount_Term', 'Credit_History', 'Loan_Status',\n",
       "       'Gender_Female', 'Gender_Male', 'Married_No', 'Married_Yes',\n",
       "       'Dependents_0', 'Dependents_1', 'Dependents_2', 'Dependents_3+',\n",
       "       'Education_Graduate', 'Education_Not Graduate', 'Self_Employed_No',\n",
       "       'Self_Employed_Yes', 'Property_Area_Rural', 'Property_Area_Semiurban',\n",
       "       'Property_Area_Urban'],\n",
       "      dtype='object')"
      ]
     },
     "execution_count": 201,
     "metadata": {},
     "output_type": "execute_result"
    }
   ],
   "source": [
    "d_f_logit.columns"
   ]
  },
  {
   "cell_type": "code",
   "execution_count": 212,
   "id": "f050234b",
   "metadata": {},
   "outputs": [],
   "source": [
    "X=d_f_logit[['Gender_Female', 'Gender_Male', 'Married_No', 'Married_Yes',\n",
    "       'Dependents_0', 'Dependents_1', 'Dependents_2', 'Dependents_3+',\n",
    "       'Education_Graduate', 'Education_Not Graduate', 'Self_Employed_No',\n",
    "       'Self_Employed_Yes', 'Property_Area_Rural', 'Property_Area_Semiurban',\n",
    "       'Property_Area_Urban', 'ApplicantIncome', 'CoapplicantIncome', 'LoanAmount',\n",
    "       'Loan_Amount_Term', 'Credit_History']]"
   ]
  },
  {
   "cell_type": "code",
   "execution_count": 203,
   "id": "00d3ffcc",
   "metadata": {},
   "outputs": [
    {
     "data": {
      "text/html": [
       "<div>\n",
       "<style scoped>\n",
       "    .dataframe tbody tr th:only-of-type {\n",
       "        vertical-align: middle;\n",
       "    }\n",
       "\n",
       "    .dataframe tbody tr th {\n",
       "        vertical-align: top;\n",
       "    }\n",
       "\n",
       "    .dataframe thead th {\n",
       "        text-align: right;\n",
       "    }\n",
       "</style>\n",
       "<table border=\"1\" class=\"dataframe\">\n",
       "  <thead>\n",
       "    <tr style=\"text-align: right;\">\n",
       "      <th></th>\n",
       "      <th>Gender_Female</th>\n",
       "      <th>Gender_Male</th>\n",
       "      <th>Married_No</th>\n",
       "      <th>Married_Yes</th>\n",
       "      <th>Dependents_0</th>\n",
       "      <th>Dependents_1</th>\n",
       "      <th>Dependents_2</th>\n",
       "      <th>Dependents_3+</th>\n",
       "      <th>Education_Graduate</th>\n",
       "      <th>Education_Not Graduate</th>\n",
       "      <th>Self_Employed_No</th>\n",
       "      <th>Self_Employed_Yes</th>\n",
       "      <th>Property_Area_Rural</th>\n",
       "      <th>Property_Area_Semiurban</th>\n",
       "      <th>Property_Area_Urban</th>\n",
       "      <th>ApplicantIncome</th>\n",
       "      <th>CoapplicantIncome</th>\n",
       "      <th>LoanAmount</th>\n",
       "      <th>Loan_Amount_Term</th>\n",
       "      <th>Credit_History</th>\n",
       "    </tr>\n",
       "  </thead>\n",
       "  <tbody>\n",
       "    <tr>\n",
       "      <th>0</th>\n",
       "      <td>0</td>\n",
       "      <td>1</td>\n",
       "      <td>1</td>\n",
       "      <td>0</td>\n",
       "      <td>1</td>\n",
       "      <td>0</td>\n",
       "      <td>0</td>\n",
       "      <td>0</td>\n",
       "      <td>1</td>\n",
       "      <td>0</td>\n",
       "      <td>1</td>\n",
       "      <td>0</td>\n",
       "      <td>0</td>\n",
       "      <td>0</td>\n",
       "      <td>1</td>\n",
       "      <td>5849</td>\n",
       "      <td>0.0</td>\n",
       "      <td>146.412162</td>\n",
       "      <td>360.0</td>\n",
       "      <td>1.0</td>\n",
       "    </tr>\n",
       "    <tr>\n",
       "      <th>1</th>\n",
       "      <td>0</td>\n",
       "      <td>1</td>\n",
       "      <td>0</td>\n",
       "      <td>1</td>\n",
       "      <td>0</td>\n",
       "      <td>1</td>\n",
       "      <td>0</td>\n",
       "      <td>0</td>\n",
       "      <td>1</td>\n",
       "      <td>0</td>\n",
       "      <td>1</td>\n",
       "      <td>0</td>\n",
       "      <td>1</td>\n",
       "      <td>0</td>\n",
       "      <td>0</td>\n",
       "      <td>4583</td>\n",
       "      <td>1508.0</td>\n",
       "      <td>128.000000</td>\n",
       "      <td>360.0</td>\n",
       "      <td>1.0</td>\n",
       "    </tr>\n",
       "    <tr>\n",
       "      <th>2</th>\n",
       "      <td>0</td>\n",
       "      <td>1</td>\n",
       "      <td>0</td>\n",
       "      <td>1</td>\n",
       "      <td>1</td>\n",
       "      <td>0</td>\n",
       "      <td>0</td>\n",
       "      <td>0</td>\n",
       "      <td>1</td>\n",
       "      <td>0</td>\n",
       "      <td>0</td>\n",
       "      <td>1</td>\n",
       "      <td>0</td>\n",
       "      <td>0</td>\n",
       "      <td>1</td>\n",
       "      <td>3000</td>\n",
       "      <td>0.0</td>\n",
       "      <td>66.000000</td>\n",
       "      <td>360.0</td>\n",
       "      <td>1.0</td>\n",
       "    </tr>\n",
       "    <tr>\n",
       "      <th>3</th>\n",
       "      <td>0</td>\n",
       "      <td>1</td>\n",
       "      <td>0</td>\n",
       "      <td>1</td>\n",
       "      <td>1</td>\n",
       "      <td>0</td>\n",
       "      <td>0</td>\n",
       "      <td>0</td>\n",
       "      <td>0</td>\n",
       "      <td>1</td>\n",
       "      <td>1</td>\n",
       "      <td>0</td>\n",
       "      <td>0</td>\n",
       "      <td>0</td>\n",
       "      <td>1</td>\n",
       "      <td>2583</td>\n",
       "      <td>2358.0</td>\n",
       "      <td>120.000000</td>\n",
       "      <td>360.0</td>\n",
       "      <td>1.0</td>\n",
       "    </tr>\n",
       "    <tr>\n",
       "      <th>4</th>\n",
       "      <td>0</td>\n",
       "      <td>1</td>\n",
       "      <td>1</td>\n",
       "      <td>0</td>\n",
       "      <td>1</td>\n",
       "      <td>0</td>\n",
       "      <td>0</td>\n",
       "      <td>0</td>\n",
       "      <td>1</td>\n",
       "      <td>0</td>\n",
       "      <td>1</td>\n",
       "      <td>0</td>\n",
       "      <td>0</td>\n",
       "      <td>0</td>\n",
       "      <td>1</td>\n",
       "      <td>6000</td>\n",
       "      <td>0.0</td>\n",
       "      <td>141.000000</td>\n",
       "      <td>360.0</td>\n",
       "      <td>1.0</td>\n",
       "    </tr>\n",
       "    <tr>\n",
       "      <th>...</th>\n",
       "      <td>...</td>\n",
       "      <td>...</td>\n",
       "      <td>...</td>\n",
       "      <td>...</td>\n",
       "      <td>...</td>\n",
       "      <td>...</td>\n",
       "      <td>...</td>\n",
       "      <td>...</td>\n",
       "      <td>...</td>\n",
       "      <td>...</td>\n",
       "      <td>...</td>\n",
       "      <td>...</td>\n",
       "      <td>...</td>\n",
       "      <td>...</td>\n",
       "      <td>...</td>\n",
       "      <td>...</td>\n",
       "      <td>...</td>\n",
       "      <td>...</td>\n",
       "      <td>...</td>\n",
       "      <td>...</td>\n",
       "    </tr>\n",
       "    <tr>\n",
       "      <th>609</th>\n",
       "      <td>1</td>\n",
       "      <td>0</td>\n",
       "      <td>1</td>\n",
       "      <td>0</td>\n",
       "      <td>1</td>\n",
       "      <td>0</td>\n",
       "      <td>0</td>\n",
       "      <td>0</td>\n",
       "      <td>1</td>\n",
       "      <td>0</td>\n",
       "      <td>1</td>\n",
       "      <td>0</td>\n",
       "      <td>1</td>\n",
       "      <td>0</td>\n",
       "      <td>0</td>\n",
       "      <td>2900</td>\n",
       "      <td>0.0</td>\n",
       "      <td>71.000000</td>\n",
       "      <td>360.0</td>\n",
       "      <td>1.0</td>\n",
       "    </tr>\n",
       "    <tr>\n",
       "      <th>610</th>\n",
       "      <td>0</td>\n",
       "      <td>1</td>\n",
       "      <td>0</td>\n",
       "      <td>1</td>\n",
       "      <td>0</td>\n",
       "      <td>0</td>\n",
       "      <td>0</td>\n",
       "      <td>1</td>\n",
       "      <td>1</td>\n",
       "      <td>0</td>\n",
       "      <td>1</td>\n",
       "      <td>0</td>\n",
       "      <td>1</td>\n",
       "      <td>0</td>\n",
       "      <td>0</td>\n",
       "      <td>4106</td>\n",
       "      <td>0.0</td>\n",
       "      <td>40.000000</td>\n",
       "      <td>180.0</td>\n",
       "      <td>1.0</td>\n",
       "    </tr>\n",
       "    <tr>\n",
       "      <th>611</th>\n",
       "      <td>0</td>\n",
       "      <td>1</td>\n",
       "      <td>0</td>\n",
       "      <td>1</td>\n",
       "      <td>0</td>\n",
       "      <td>1</td>\n",
       "      <td>0</td>\n",
       "      <td>0</td>\n",
       "      <td>1</td>\n",
       "      <td>0</td>\n",
       "      <td>1</td>\n",
       "      <td>0</td>\n",
       "      <td>0</td>\n",
       "      <td>0</td>\n",
       "      <td>1</td>\n",
       "      <td>8072</td>\n",
       "      <td>240.0</td>\n",
       "      <td>253.000000</td>\n",
       "      <td>360.0</td>\n",
       "      <td>1.0</td>\n",
       "    </tr>\n",
       "    <tr>\n",
       "      <th>612</th>\n",
       "      <td>0</td>\n",
       "      <td>1</td>\n",
       "      <td>0</td>\n",
       "      <td>1</td>\n",
       "      <td>0</td>\n",
       "      <td>0</td>\n",
       "      <td>1</td>\n",
       "      <td>0</td>\n",
       "      <td>1</td>\n",
       "      <td>0</td>\n",
       "      <td>1</td>\n",
       "      <td>0</td>\n",
       "      <td>0</td>\n",
       "      <td>0</td>\n",
       "      <td>1</td>\n",
       "      <td>7583</td>\n",
       "      <td>0.0</td>\n",
       "      <td>187.000000</td>\n",
       "      <td>360.0</td>\n",
       "      <td>1.0</td>\n",
       "    </tr>\n",
       "    <tr>\n",
       "      <th>613</th>\n",
       "      <td>1</td>\n",
       "      <td>0</td>\n",
       "      <td>1</td>\n",
       "      <td>0</td>\n",
       "      <td>1</td>\n",
       "      <td>0</td>\n",
       "      <td>0</td>\n",
       "      <td>0</td>\n",
       "      <td>1</td>\n",
       "      <td>0</td>\n",
       "      <td>0</td>\n",
       "      <td>1</td>\n",
       "      <td>0</td>\n",
       "      <td>1</td>\n",
       "      <td>0</td>\n",
       "      <td>4583</td>\n",
       "      <td>0.0</td>\n",
       "      <td>133.000000</td>\n",
       "      <td>360.0</td>\n",
       "      <td>0.0</td>\n",
       "    </tr>\n",
       "  </tbody>\n",
       "</table>\n",
       "<p>614 rows × 20 columns</p>\n",
       "</div>"
      ],
      "text/plain": [
       "     Gender_Female  Gender_Male  Married_No  Married_Yes  Dependents_0  \\\n",
       "0                0            1           1            0             1   \n",
       "1                0            1           0            1             0   \n",
       "2                0            1           0            1             1   \n",
       "3                0            1           0            1             1   \n",
       "4                0            1           1            0             1   \n",
       "..             ...          ...         ...          ...           ...   \n",
       "609              1            0           1            0             1   \n",
       "610              0            1           0            1             0   \n",
       "611              0            1           0            1             0   \n",
       "612              0            1           0            1             0   \n",
       "613              1            0           1            0             1   \n",
       "\n",
       "     Dependents_1  Dependents_2  Dependents_3+  Education_Graduate  \\\n",
       "0               0             0              0                   1   \n",
       "1               1             0              0                   1   \n",
       "2               0             0              0                   1   \n",
       "3               0             0              0                   0   \n",
       "4               0             0              0                   1   \n",
       "..            ...           ...            ...                 ...   \n",
       "609             0             0              0                   1   \n",
       "610             0             0              1                   1   \n",
       "611             1             0              0                   1   \n",
       "612             0             1              0                   1   \n",
       "613             0             0              0                   1   \n",
       "\n",
       "     Education_Not Graduate  Self_Employed_No  Self_Employed_Yes  \\\n",
       "0                         0                 1                  0   \n",
       "1                         0                 1                  0   \n",
       "2                         0                 0                  1   \n",
       "3                         1                 1                  0   \n",
       "4                         0                 1                  0   \n",
       "..                      ...               ...                ...   \n",
       "609                       0                 1                  0   \n",
       "610                       0                 1                  0   \n",
       "611                       0                 1                  0   \n",
       "612                       0                 1                  0   \n",
       "613                       0                 0                  1   \n",
       "\n",
       "     Property_Area_Rural  Property_Area_Semiurban  Property_Area_Urban  \\\n",
       "0                      0                        0                    1   \n",
       "1                      1                        0                    0   \n",
       "2                      0                        0                    1   \n",
       "3                      0                        0                    1   \n",
       "4                      0                        0                    1   \n",
       "..                   ...                      ...                  ...   \n",
       "609                    1                        0                    0   \n",
       "610                    1                        0                    0   \n",
       "611                    0                        0                    1   \n",
       "612                    0                        0                    1   \n",
       "613                    0                        1                    0   \n",
       "\n",
       "     ApplicantIncome  CoapplicantIncome  LoanAmount  Loan_Amount_Term  \\\n",
       "0               5849                0.0  146.412162             360.0   \n",
       "1               4583             1508.0  128.000000             360.0   \n",
       "2               3000                0.0   66.000000             360.0   \n",
       "3               2583             2358.0  120.000000             360.0   \n",
       "4               6000                0.0  141.000000             360.0   \n",
       "..               ...                ...         ...               ...   \n",
       "609             2900                0.0   71.000000             360.0   \n",
       "610             4106                0.0   40.000000             180.0   \n",
       "611             8072              240.0  253.000000             360.0   \n",
       "612             7583                0.0  187.000000             360.0   \n",
       "613             4583                0.0  133.000000             360.0   \n",
       "\n",
       "     Credit_History  \n",
       "0               1.0  \n",
       "1               1.0  \n",
       "2               1.0  \n",
       "3               1.0  \n",
       "4               1.0  \n",
       "..              ...  \n",
       "609             1.0  \n",
       "610             1.0  \n",
       "611             1.0  \n",
       "612             1.0  \n",
       "613             0.0  \n",
       "\n",
       "[614 rows x 20 columns]"
      ]
     },
     "execution_count": 203,
     "metadata": {},
     "output_type": "execute_result"
    }
   ],
   "source": [
    "X"
   ]
  },
  {
   "cell_type": "code",
   "execution_count": 211,
   "id": "5a962ac5",
   "metadata": {},
   "outputs": [],
   "source": [
    "y=d_f_logit['Loan_Status']"
   ]
  },
  {
   "cell_type": "code",
   "execution_count": 208,
   "id": "838444cb",
   "metadata": {},
   "outputs": [
    {
     "data": {
      "text/plain": [
       "1    422\n",
       "0    192\n",
       "Name: Loan_Status, dtype: int64"
      ]
     },
     "execution_count": 208,
     "metadata": {},
     "output_type": "execute_result"
    }
   ],
   "source": [
    "y.value_counts()"
   ]
  },
  {
   "cell_type": "code",
   "execution_count": 215,
   "id": "d52e52eb",
   "metadata": {},
   "outputs": [
    {
     "data": {
      "text/plain": [
       "(614, 20)"
      ]
     },
     "execution_count": 215,
     "metadata": {},
     "output_type": "execute_result"
    }
   ],
   "source": [
    "X.shape"
   ]
  },
  {
   "cell_type": "code",
   "execution_count": 220,
   "id": "8e687a73",
   "metadata": {},
   "outputs": [
    {
     "name": "stdout",
     "output_type": "stream",
     "text": [
      "Collecting imblearn\n",
      "  Downloading imblearn-0.0-py2.py3-none-any.whl (1.9 kB)\n",
      "Collecting imbalanced-learn\n",
      "  Downloading imbalanced_learn-0.8.0-py3-none-any.whl (206 kB)\n",
      "Requirement already satisfied: scikit-learn>=0.24 in c:\\users\\wajah\\anaconda3\\lib\\site-packages (from imbalanced-learn->imblearn) (0.24.1)\n",
      "Requirement already satisfied: numpy>=1.13.3 in c:\\users\\wajah\\anaconda3\\lib\\site-packages (from imbalanced-learn->imblearn) (1.20.1)\n",
      "Requirement already satisfied: scipy>=0.19.1 in c:\\users\\wajah\\anaconda3\\lib\\site-packages (from imbalanced-learn->imblearn) (1.6.2)\n",
      "Requirement already satisfied: joblib>=0.11 in c:\\users\\wajah\\anaconda3\\lib\\site-packages (from imbalanced-learn->imblearn) (1.0.1)\n",
      "Requirement already satisfied: threadpoolctl>=2.0.0 in c:\\users\\wajah\\anaconda3\\lib\\site-packages (from scikit-learn>=0.24->imbalanced-learn->imblearn) (2.1.0)\n",
      "Installing collected packages: imbalanced-learn, imblearn\n",
      "Successfully installed imbalanced-learn-0.8.0 imblearn-0.0\n"
     ]
    }
   ],
   "source": [
    "!pip install imblearn"
   ]
  },
  {
   "cell_type": "code",
   "execution_count": 221,
   "id": "8688e34e",
   "metadata": {},
   "outputs": [],
   "source": [
    "from imblearn.over_sampling import SMOTE"
   ]
  },
  {
   "cell_type": "code",
   "execution_count": 223,
   "id": "bdd57241",
   "metadata": {},
   "outputs": [],
   "source": [
    "from sklearn.model_selection import train_test_split"
   ]
  },
  {
   "cell_type": "code",
   "execution_count": 231,
   "id": "1e2160bb",
   "metadata": {},
   "outputs": [],
   "source": [
    "d_f_logit=d_f_logit.iloc[:,2:]"
   ]
  },
  {
   "cell_type": "code",
   "execution_count": 233,
   "id": "44cca93f",
   "metadata": {},
   "outputs": [
    {
     "name": "stdout",
     "output_type": "stream",
     "text": [
      "length of oversampled data is  576\n",
      "Number of no subscription in oversampled data 288\n",
      "Number of subscription 288\n",
      "Proportion of no subscription data in oversampled data is  0.5\n",
      "Proportion of subscription data in oversampled data is  0.5\n"
     ]
    }
   ],
   "source": [
    "X = d_f_logit.loc[:, d_f_logit.columns != 'Loan_Status']\n",
    "y = d_f_logit.loc[:, d_f_logit.columns == 'Loan_Status']\n",
    "from imblearn.over_sampling import SMOTE\n",
    "os = SMOTE(random_state=0)\n",
    "X_train, X_test, y_train, y_test = train_test_split(X, y, test_size=0.3, random_state=0)\n",
    "columns = X_train.columns\n",
    "os_data_X,os_data_y=os.fit_resample(X_train, y_train)\n",
    "os_data_X = pd.DataFrame(data=os_data_X,columns=columns )\n",
    "os_data_y= pd.DataFrame(data=os_data_y,columns=['Loan_Status'])\n",
    "# we can Check the numbers of our data\n",
    "print(\"length of oversampled data is \",len(os_data_X))\n",
    "print(\"Number of no subscription in oversampled data\",len(os_data_y[os_data_y['Loan_Status']==0]))\n",
    "print(\"Number of subscription\",len(os_data_y[os_data_y['Loan_Status']==1]))\n",
    "print(\"Proportion of no subscription data in oversampled data is \",len(os_data_y[os_data_y['Loan_Status']==0])/len(os_data_X))\n",
    "print(\"Proportion of subscription data in oversampled data is \",len(os_data_y[os_data_y['Loan_Status']==1])/len(os_data_X))"
   ]
  },
  {
   "cell_type": "code",
   "execution_count": 234,
   "id": "8c342205",
   "metadata": {},
   "outputs": [
    {
     "name": "stdout",
     "output_type": "stream",
     "text": [
      "[ True  True  True  True  True  True  True  True  True  True  True  True\n",
      "  True  True  True  True  True  True  True  True]\n",
      "[1 1 1 1 1 1 1 1 1 1 1 1 1 1 1 1 1 1 1 1]\n"
     ]
    },
    {
     "name": "stderr",
     "output_type": "stream",
     "text": [
      "C:\\Users\\wajah\\anaconda3\\lib\\site-packages\\sklearn\\utils\\validation.py:70: FutureWarning: Pass n_features_to_select=20 as keyword args. From version 1.0 (renaming of 0.25) passing these as positional arguments will result in an error\n",
      "  warnings.warn(f\"Pass {args_msg} as keyword args. From version \"\n"
     ]
    }
   ],
   "source": [
    "data_final_vars=d_f_logit.columns.values.tolist()\n",
    "y=['Loan_Status']\n",
    "X=[i for i in d_f_logit if i not in y]\n",
    "from sklearn.feature_selection import RFE\n",
    "from sklearn.linear_model import LogisticRegression\n",
    "logreg = LogisticRegression()\n",
    "rfe = RFE(logreg, 20)\n",
    "rfe = rfe.fit(os_data_X, os_data_y.values.ravel())\n",
    "print(rfe.support_)\n",
    "print(rfe.ranking_)\n"
   ]
  },
  {
   "cell_type": "code",
   "execution_count": 236,
   "id": "e6030c0d",
   "metadata": {},
   "outputs": [
    {
     "data": {
      "text/plain": [
       "['Loan_Status']"
      ]
     },
     "execution_count": 236,
     "metadata": {},
     "output_type": "execute_result"
    }
   ],
   "source": [
    "y"
   ]
  },
  {
   "cell_type": "code",
   "execution_count": 239,
   "id": "d0cb6748",
   "metadata": {},
   "outputs": [
    {
     "name": "stdout",
     "output_type": "stream",
     "text": [
      "Warning: Maximum number of iterations has been exceeded.\n",
      "         Current function value: 0.453765\n",
      "         Iterations: 35\n",
      "                                     Results: Logit\n",
      "=========================================================================================\n",
      "Model:                      Logit                    Pseudo R-squared:         0.270     \n",
      "Dependent Variable:         Loan_Status              AIC:                      587.2237  \n",
      "Date:                       2021-09-08 16:36         BIC:                      653.5236  \n",
      "No. Observations:           614                      Log-Likelihood:           -278.61   \n",
      "Df Model:                   14                       LL-Null:                  -381.45   \n",
      "Df Residuals:               599                      LLR p-value:              3.8125e-36\n",
      "Converged:                  0.0000                   Scale:                    1.0000    \n",
      "No. Iterations:             35.0000                                                      \n",
      "-----------------------------------------------------------------------------------------\n",
      "                         Coef.     Std.Err.      z    P>|z|      [0.025         0.975]   \n",
      "-----------------------------------------------------------------------------------------\n",
      "ApplicantIncome          0.0000        0.0000  0.4815 0.6301        -0.0000        0.0001\n",
      "CoapplicantIncome       -0.0001        0.0000 -1.5006 0.1334        -0.0001        0.0000\n",
      "LoanAmount              -0.0019        0.0016 -1.2019 0.2294        -0.0051        0.0012\n",
      "Loan_Amount_Term        -0.0012        0.0018 -0.6829 0.4947        -0.0048        0.0023\n",
      "Credit_History           3.9380        0.4212  9.3502 0.0000         3.1126        4.7635\n",
      "Gender_Female           -0.3815 10369201.2282 -0.0000 1.0000 -20323261.3372 20323260.5742\n",
      "Gender_Male             -0.4113 10502314.3183 -0.0000 1.0000 -20584158.2294 20584157.4069\n",
      "Married_No              -0.6884           nan     nan    nan            nan           nan\n",
      "Married_Yes             -0.1044           nan     nan    nan            nan           nan\n",
      "Dependents_0            -0.1592           nan     nan    nan            nan           nan\n",
      "Dependents_1            -0.6298           nan     nan    nan            nan           nan\n",
      "Dependents_2             0.1317           nan     nan    nan            nan           nan\n",
      "Dependents_3+           -0.1355           nan     nan    nan            nan           nan\n",
      "Education_Graduate      -0.1922  7725512.8376 -0.0000 1.0000 -15141727.1161 15141726.7317\n",
      "Education_Not Graduate  -0.6006  7892450.9909 -0.0000 1.0000 -15468920.2926 15468919.0913\n",
      "Self_Employed_No        -0.3843  5711500.8422 -0.0000 1.0000 -11194336.3327 11194335.5641\n",
      "Self_Employed_Yes       -0.4085  5722314.0493 -0.0000 1.0000 -11215529.8534 11215529.0364\n",
      "Property_Area_Rural     -0.6402           nan     nan    nan            nan           nan\n",
      "Property_Area_Semiurban  0.2665           nan     nan    nan            nan           nan\n",
      "Property_Area_Urban     -0.4190           nan     nan    nan            nan           nan\n",
      "=========================================================================================\n",
      "\n"
     ]
    },
    {
     "name": "stderr",
     "output_type": "stream",
     "text": [
      "C:\\Users\\wajah\\anaconda3\\lib\\site-packages\\statsmodels\\base\\model.py:566: ConvergenceWarning: Maximum Likelihood optimization failed to converge. Check mle_retvals\n",
      "  warnings.warn(\"Maximum Likelihood optimization failed to \"\n"
     ]
    }
   ],
   "source": [
    "import statsmodels.api as sm\n",
    "logit_model=sm.Logit(d_f_logit[y],d_f_logit[X])\n",
    "result=logit_model.fit()\n",
    "print(result.summary2())"
   ]
  },
  {
   "cell_type": "code",
   "execution_count": null,
   "id": "a2944cbb",
   "metadata": {},
   "outputs": [],
   "source": []
  }
 ],
 "metadata": {
  "kernelspec": {
   "display_name": "Python 3",
   "language": "python",
   "name": "python3"
  },
  "language_info": {
   "codemirror_mode": {
    "name": "ipython",
    "version": 3
   },
   "file_extension": ".py",
   "mimetype": "text/x-python",
   "name": "python",
   "nbconvert_exporter": "python",
   "pygments_lexer": "ipython3",
   "version": "3.8.8"
  }
 },
 "nbformat": 4,
 "nbformat_minor": 5
}
